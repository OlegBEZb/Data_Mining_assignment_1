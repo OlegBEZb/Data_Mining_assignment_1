{
 "cells": [
  {
   "cell_type": "code",
   "execution_count": 34,
   "id": "67aba480",
   "metadata": {},
   "outputs": [],
   "source": [
    "import pandas as pd\n",
    "import numpy as np\n",
    "import pmdarima as pm\n",
    "from sklearn.model_selection import train_test_split\n",
    "np.random.seed(42)"
   ]
  },
  {
   "cell_type": "markdown",
   "id": "22c61665",
   "metadata": {},
   "source": [
    "## Preprocessing\n",
    "* TODO: do the same NA handling as Oleg and Agoston for consistency..,\n"
   ]
  },
  {
   "cell_type": "code",
   "execution_count": 6,
   "id": "4558af6e",
   "metadata": {},
   "outputs": [],
   "source": [
    "df = pd.read_csv(\"data/mood.csv\")\n",
    "\n",
    "# We only care about mood for ARIMA, so we drop other variables\n",
    "df = df[df.variable == 'mood']\n",
    "\n",
    "# We keep the id, timestamp, and value for mood\n",
    "df = df[['id', 'time', 'value']]\n",
    "\n",
    "# We rename the value column to mood since it only contains values for mood now\n",
    "df = df.rename(columns={'value': 'mood'})"
   ]
  },
  {
   "cell_type": "markdown",
   "id": "73871bfe",
   "metadata": {},
   "source": [
    "## Separating the data\n",
    "* First we will separate for each participant\n",
    "* Then we will do a train/test split"
   ]
  },
  {
   "cell_type": "code",
   "execution_count": 15,
   "id": "1c12b192",
   "metadata": {},
   "outputs": [],
   "source": [
    "# We split the data for each participant\n",
    "participants = {participant: df[df.id == participant].drop(['id'], axis=1) for participant in df.id.unique()}\n",
    "\n",
    "# Maps each participants to a train and test set\n",
    "train_test_dict = {}\n",
    "for participant in participants:\n",
    "    cutoff = int(len(participants[participant]['mood']) * 0.8)\n",
    "    train = participants[participant]['mood'][:cutoff]\n",
    "    test = participants[participant]['mood'][cutoff:]\n",
    "    \n",
    "    train_test_dict[participant] = {'train': train, 'test': test}"
   ]
  },
  {
   "cell_type": "markdown",
   "id": "fe002480",
   "metadata": {},
   "source": [
    "## Finding the models with the optimal parameters"
   ]
  },
  {
   "cell_type": "code",
   "execution_count": 44,
   "id": "dd67c2dd",
   "metadata": {},
   "outputs": [
    {
     "name": "stdout",
     "output_type": "stream",
     "text": [
      "AS14.01\t\tAIC: 417.75\tBIC: 430.45\tParameters: (1, 0, 1)\n",
      "AS14.02\t\tAIC: 407.19\tBIC: 418.57\tParameters: (2, 0, 0)\n",
      "AS14.03\t\tAIC: 377.36\tBIC: 390.04\tParameters: (1, 0, 1)\n",
      "AS14.05\t\tAIC: 443.08\tBIC: 452.84\tParameters: (0, 1, 2)\n",
      "AS14.06\t\tAIC: 485.18\tBIC: 494.44\tParameters: (0, 0, 1)\n",
      "AS14.07\t\tAIC: 606.30\tBIC: 618.42\tParameters: (1, 0, 1)\n",
      "AS14.08\t\tAIC: 725.30\tBIC: 735.73\tParameters: (1, 0, 0)\n",
      "AS14.09\t\tAIC: 380.68\tBIC: 395.96\tParameters: (2, 0, 1)\n",
      "AS14.12\t\tAIC: 342.45\tBIC: 351.44\tParameters: (0, 0, 1)\n",
      "AS14.13\t\tAIC: 578.24\tBIC: 591.34\tParameters: (1, 0, 1)\n",
      "AS14.14\t\tAIC: 352.75\tBIC: 358.48\tParameters: (0, 1, 1)\n",
      "AS14.15\t\tAIC: 288.95\tBIC: 309.17\tParameters: (2, 0, 2)\n",
      "AS14.16\t\tAIC: 472.43\tBIC: 485.29\tParameters: (1, 0, 1)\n",
      "AS14.17\t\tAIC: 351.49\tBIC: 361.22\tParameters: (1, 0, 0)\n",
      "AS14.19\t\tAIC: 500.74\tBIC: 516.60\tParameters: (1, 0, 2)\n",
      "AS14.20\t\tAIC: 358.14\tBIC: 367.38\tParameters: (1, 0, 0)\n",
      "AS14.23\t\tAIC: 283.31\tBIC: 294.69\tParameters: (2, 0, 0)\n",
      "AS14.24\t\tAIC: 485.86\tBIC: 498.84\tParameters: (1, 0, 1)\n",
      "AS14.25\t\tAIC: 295.86\tBIC: 303.80\tParameters: (0, 0, 1)\n",
      "AS14.26\t\tAIC: 623.25\tBIC: 651.83\tParameters: (3, 0, 3)\n",
      "AS14.27\t\tAIC: 469.29\tBIC: 481.57\tParameters: (0, 0, 2)\n",
      "AS14.28\t\tAIC: 416.23\tBIC: 424.94\tParameters: (1, 0, 0)\n",
      "AS14.29\t\tAIC: 428.11\tBIC: 437.12\tParameters: (0, 0, 1)\n",
      "AS14.30\t\tAIC: 373.70\tBIC: 380.07\tParameters: (0, 0, 0)\n",
      "AS14.31\t\tAIC: 312.04\tBIC: 321.22\tParameters: (1, 0, 0)\n",
      "AS14.32\t\tAIC: 250.67\tBIC: 258.55\tParameters: (1, 0, 0)\n",
      "AS14.33\t\tAIC: 557.70\tBIC: 566.79\tParameters: (1, 0, 0)\n"
     ]
    }
   ],
   "source": [
    "y = train_test_dict['AS14.01']['train']\n",
    "\n",
    "# Maps each participant to a fitted model\n",
    "model_dict = {}\n",
    "for participant in participants:\n",
    "    train = train_test_dict[participant]['train']\n",
    "    \n",
    "    model = pm.auto_arima(train, start_p=1, start_q=1,\n",
    "                          test='adf',       # use adftest to find optimal 'd'\n",
    "                          max_p=5, max_q=5, # maximum p and q\n",
    "                          m=1,              # frequency of series\n",
    "                          d=None,           # let model determine 'd'\n",
    "                          seasonal=False,   # No Seasonality (Might have to check for this shit?)\n",
    "                          start_P=0, \n",
    "                          D=0, \n",
    "                          trace=False,\n",
    "                          error_action='ignore',  \n",
    "                          suppress_warnings=True, \n",
    "                          stepwise=True)\n",
    "    model_dict[participant] = model\n",
    "\n",
    "for participant in sorted(model_dict.keys()):\n",
    "    model = model_dict[participant]\n",
    "    print(f\"{participant}\\t\\tAIC: {np.round(model.aic(), 2):.2f}\\tBIC: {np.round(model.bic(), 2):.2f}\\tParameters: {model.order}\")"
   ]
  }
 ],
 "metadata": {
  "kernelspec": {
   "display_name": "Python 3",
   "language": "python",
   "name": "python3"
  },
  "language_info": {
   "codemirror_mode": {
    "name": "ipython",
    "version": 3
   },
   "file_extension": ".py",
   "mimetype": "text/x-python",
   "name": "python",
   "nbconvert_exporter": "python",
   "pygments_lexer": "ipython3",
   "version": "3.8.8"
  },
  "latex_envs": {
   "LaTeX_envs_menu_present": true,
   "autoclose": false,
   "autocomplete": true,
   "bibliofile": "biblio.bib",
   "cite_by": "apalike",
   "current_citInitial": 1,
   "eqLabelWithNumbers": true,
   "eqNumInitial": 1,
   "hotkeys": {
    "equation": "Ctrl-E",
    "itemize": "Ctrl-I"
   },
   "labels_anchors": false,
   "latex_user_defs": false,
   "report_style_numbering": false,
   "user_envs_cfg": false
  },
  "toc": {
   "base_numbering": 1,
   "nav_menu": {},
   "number_sections": true,
   "sideBar": true,
   "skip_h1_title": false,
   "title_cell": "Table of Contents",
   "title_sidebar": "Contents",
   "toc_cell": false,
   "toc_position": {},
   "toc_section_display": true,
   "toc_window_display": false
  }
 },
 "nbformat": 4,
 "nbformat_minor": 5
}
