{
 "cells": [
  {
   "cell_type": "code",
   "execution_count": 1,
   "id": "67aba480",
   "metadata": {},
   "outputs": [],
   "source": [
    "import pandas as pd\n",
    "import numpy as np\n",
    "import pmdarima as pm\n",
    "import matplotlib.pyplot as plt\n",
    "from statsmodels.tsa.arima.model import ARIMA\n",
    "from statsmodels.tsa.seasonal import seasonal_decompose\n",
    "from sklearn.model_selection import train_test_split\n",
    "from sklearn.metrics import mean_absolute_error, mean_squared_error\n",
    "import warnings\n",
    "from statsmodels.tools.sm_exceptions import ValueWarning\n",
    "import warnings\n",
    "\n",
    "warnings.simplefilter('ignore')\n",
    "np.random.seed(42)"
   ]
  },
  {
   "cell_type": "markdown",
   "id": "22c61665",
   "metadata": {},
   "source": [
    "## Preprocessing"
   ]
  },
  {
   "cell_type": "code",
   "execution_count": 12,
   "id": "4558af6e",
   "metadata": {},
   "outputs": [],
   "source": [
    "df = pd.read_csv(\"data/mood_aggregated.csv\")\n",
    "\n",
    "# We only care about mood for ARIMA, so we drop other variables\n",
    "df = df[df.variable == 'mood']\n",
    "\n",
    "# We keep the id, timestamp, and value for mood\n",
    "df = df[['id', 'time', 'value']]\n",
    "\n",
    "# We change the time strings to datetime objjects\n",
    "df.time = pd.to_datetime(df.time)\n",
    "df.time = df.time.dt.floor('H')\n",
    "\n",
    "# We rename the value column to mood since it only contains values for mood now\n",
    "df = df.rename(columns={'value': 'mood'})\n",
    "\n",
    "df = df.dropna()"
   ]
  },
  {
   "cell_type": "markdown",
   "id": "73871bfe",
   "metadata": {},
   "source": [
    "## Separating the data\n",
    "* First we will separate for each participant\n",
    "* Then we will do a train/test split for each"
   ]
  },
  {
   "cell_type": "code",
   "execution_count": 3,
   "id": "1c12b192",
   "metadata": {},
   "outputs": [],
   "source": [
    "# We split the data for each participant\n",
    "participants = {participant: df[df.id == participant].drop(['id'], axis=1) for participant in df.id.unique()}\n",
    "\n",
    "# Maps each participants to a train and test set\n",
    "train_test_dict = {}\n",
    "for participant in participants:\n",
    "    train = list(participants[participant]['mood'])[:-1]\n",
    "    test = list(participants[participant]['mood'])[-1]\n",
    "    \n",
    "    train_test_dict[participant] = {'train': train, 'test': test}\n"
   ]
  },
  {
   "cell_type": "markdown",
   "id": "fe002480",
   "metadata": {},
   "source": [
    "## Finding the models with the optimal parameters"
   ]
  },
  {
   "cell_type": "code",
   "execution_count": 4,
   "id": "dd67c2dd",
   "metadata": {},
   "outputs": [],
   "source": [
    "# Maps each participant to a fitted model\n",
    "model_dict = {}\n",
    "for participant in participants:\n",
    "    train = train_test_dict[participant]['train']\n",
    "    \n",
    "    model = pm.auto_arima(train, start_p=1, start_q=1,\n",
    "                          test='adf',       # use adftest to find optimal 'd'\n",
    "                          max_p=5, max_q=5, # maximum p and q\n",
    "                          m=1,              # frequency of series\n",
    "                          d=None,           # let model determine 'd'\n",
    "                          seasonal=False,   # No Seasonality (Might have to check for this shit?)\n",
    "                          start_P=0, \n",
    "                          D=0, \n",
    "                          trace=False,\n",
    "                          error_action='ignore',  \n",
    "                          suppress_warnings=True, \n",
    "                          stepwise=True)\n",
    "    model_dict[participant] = model"
   ]
  },
  {
   "cell_type": "markdown",
   "id": "fa6c3e57",
   "metadata": {},
   "source": [
    "## Using the statsmodels package ARIMA function"
   ]
  },
  {
   "cell_type": "code",
   "execution_count": 5,
   "id": "166aeaa8",
   "metadata": {},
   "outputs": [],
   "source": [
    "final_models = {}\n",
    "fitted_models = {}\n",
    "for participant in model_dict.keys():\n",
    "    order = model_dict[participant].order\n",
    "    endog = train_test_dict[participant]['train']\n",
    "    model = ARIMA(endog=endog, order=order)\n",
    "    \n",
    "    final_models[participant] = model\n",
    "    \n",
    "    fitted_models[participant] = model.fit()"
   ]
  },
  {
   "cell_type": "markdown",
   "id": "74354edd",
   "metadata": {},
   "source": [
    "## Predicting with each model"
   ]
  },
  {
   "cell_type": "code",
   "execution_count": 6,
   "id": "4c85a2a3",
   "metadata": {},
   "outputs": [],
   "source": [
    "prediction_dict = {}\n",
    "for participant in participants:\n",
    "    # Get the correct model\n",
    "    model = fitted_models[participant]\n",
    "    \n",
    "    # Get the real labels and cutoff\n",
    "    true_labels = [train_test_dict[participant]['test']]\n",
    "    \n",
    "    \n",
    "    size = len(train_test_dict[participant]['train'])\n",
    "    \n",
    "    # Predict\n",
    "    predictions = model.predict(start=size, end=size)\n",
    "    \n",
    "    assert len(predictions) == len(true_labels)\n",
    "    \n",
    "    # Save the predictions\n",
    "    prediction_dict[participant] = {'true_labels': true_labels, 'predictions': predictions}"
   ]
  },
  {
   "cell_type": "code",
   "execution_count": 7,
   "id": "c4fb7759",
   "metadata": {},
   "outputs": [
    {
     "name": "stdout",
     "output_type": "stream",
     "text": [
      "AS14.01     MAE = 0.22     MSE = 0.05     True_Value = 8.00       Predicted = 7.78\n",
      "AS14.02     MAE = 2.89     MSE = 8.32     True_Value = 9.00       Predicted = 6.11\n",
      "AS14.03     MAE = 0.29     MSE = 0.08     True_Value = 7.67       Predicted = 7.38\n",
      "AS14.05     MAE = 0.58     MSE = 0.34     True_Value = 6.33       Predicted = 6.92\n",
      "AS14.06     MAE = 0.19     MSE = 0.03     True_Value = 7.00       Predicted = 7.19\n",
      "AS14.07     MAE = 0.39     MSE = 0.15     True_Value = 5.50       Predicted = 5.89\n",
      "AS14.08     MAE = 0.08     MSE = 0.01     True_Value = 6.67       Predicted = 6.75\n",
      "AS14.09     MAE = 1.14     MSE = 1.30     True_Value = 6.00       Predicted = 7.14\n",
      "AS14.12     MAE = 0.62     MSE = 0.38     True_Value = 6.00       Predicted = 5.38\n",
      "AS14.13     MAE = 0.23     MSE = 0.05     True_Value = 8.00       Predicted = 7.77\n",
      "AS14.14     MAE = 0.13     MSE = 0.02     True_Value = 7.00       Predicted = 6.87\n",
      "AS14.15     MAE = 0.05     MSE = 0.00     True_Value = 7.00       Predicted = 6.95\n",
      "AS14.16     MAE = 0.08     MSE = 0.01     True_Value = 7.33       Predicted = 7.25\n",
      "AS14.17     MAE = 0.30     MSE = 0.09     True_Value = 7.50       Predicted = 7.20\n",
      "AS14.19     MAE = 0.03     MSE = 0.00     True_Value = 7.00       Predicted = 7.03\n",
      "AS14.20     MAE = 0.03     MSE = 0.00     True_Value = 7.00       Predicted = 7.03\n",
      "AS14.23     MAE = 1.60     MSE = 2.56     True_Value = 9.00       Predicted = 7.40\n",
      "AS14.24     MAE = 0.68     MSE = 0.47     True_Value = 6.50       Predicted = 7.18\n",
      "AS14.25     MAE = 0.16     MSE = 0.03     True_Value = 7.00       Predicted = 7.16\n",
      "AS14.26     MAE = 1.24     MSE = 1.53     True_Value = 6.40       Predicted = 7.64\n",
      "AS14.27     MAE = 0.23     MSE = 0.05     True_Value = 7.00       Predicted = 7.23\n",
      "AS14.28     MAE = 0.24     MSE = 0.06     True_Value = 6.50       Predicted = 6.74\n",
      "AS14.29     MAE = 1.60     MSE = 2.57     True_Value = 6.00       Predicted = 7.60\n",
      "AS14.30     MAE = 0.22     MSE = 0.05     True_Value = 8.00       Predicted = 7.78\n",
      "AS14.31     MAE = 0.00     MSE = 0.00     True_Value = 7.00       Predicted = 7.00\n",
      "AS14.32     MAE = 0.00     MSE = 0.00     True_Value = 7.20       Predicted = 7.20\n",
      "AS14.33     MAE = 0.49     MSE = 0.24     True_Value = 7.00       Predicted = 6.51\n"
     ]
    }
   ],
   "source": [
    "for participant in prediction_dict:\n",
    "    true_value = prediction_dict[participant]['true_labels']\n",
    "    prediction = prediction_dict[participant]['predictions']\n",
    "    \n",
    "    MAE = mean_absolute_error(true_value, prediction)\n",
    "    MSE = mean_squared_error(true_value, prediction)\n",
    "    \n",
    "    print(f\"{participant}     MAE = {MAE:.2f}     MSE = {MSE:.2f}     True_Value = {true_value[0]:.2f}       Predicted = {list(prediction)[0]:.2f}\")"
   ]
  },
  {
   "cell_type": "code",
   "execution_count": 8,
   "id": "14ef2749",
   "metadata": {},
   "outputs": [],
   "source": [
    "absolute = []\n",
    "squared = []\n",
    "\n",
    "for participant in prediction_dict:\n",
    "    true_value = prediction_dict[participant]['true_labels']\n",
    "    prediction = prediction_dict[participant]['predictions']\n",
    "    \n",
    "    MAE = mean_absolute_error(true_value, prediction)\n",
    "    MSE = mean_squared_error(true_value, prediction)\n",
    "    \n",
    "    absolute.append(MAE)\n",
    "    squared.append(MSE)    "
   ]
  },
  {
   "cell_type": "markdown",
   "id": "3786013e",
   "metadata": {},
   "source": [
    "## ARIMA for multiple days prediction"
   ]
  },
  {
   "cell_type": "code",
   "execution_count": 43,
   "id": "60e2e7ae",
   "metadata": {},
   "outputs": [],
   "source": [
    "X_train = pd.read_csv('data/X_train.csv')\n",
    "\n",
    "X_test = pd.read_csv('data/X_test.csv')\n",
    "\n",
    "y_train = pd.read_csv('data/y_train.csv')\n",
    "\n",
    "y_test = pd.read_csv('data/y_test.csv')\n",
    "\n",
    "splits = {\n",
    "    'X_train': X_train,\n",
    "    'X_test': X_test,\n",
    "    'y_train': y_train,\n",
    "    'y_test': y_test\n",
    "}\n",
    "\n",
    "for frame in splits:\n",
    "    # We keep the id, timestamp, and value for mood\n",
    "    \n",
    "    try:\n",
    "        splits[frame] = splits[frame][['id', 'mood']]\n",
    "        splits[frame] = splits[frame].dropna()\n",
    "    except:\n",
    "        pass"
   ]
  },
  {
   "cell_type": "code",
   "execution_count": 46,
   "id": "f1eb7f9b",
   "metadata": {},
   "outputs": [
    {
     "data": {
      "text/html": [
       "<div>\n",
       "<style scoped>\n",
       "    .dataframe tbody tr th:only-of-type {\n",
       "        vertical-align: middle;\n",
       "    }\n",
       "\n",
       "    .dataframe tbody tr th {\n",
       "        vertical-align: top;\n",
       "    }\n",
       "\n",
       "    .dataframe thead th {\n",
       "        text-align: right;\n",
       "    }\n",
       "</style>\n",
       "<table border=\"1\" class=\"dataframe\">\n",
       "  <thead>\n",
       "    <tr style=\"text-align: right;\">\n",
       "      <th></th>\n",
       "      <th>Unnamed: 0</th>\n",
       "      <th>0</th>\n",
       "    </tr>\n",
       "  </thead>\n",
       "  <tbody>\n",
       "    <tr>\n",
       "      <th>0</th>\n",
       "      <td>0</td>\n",
       "      <td>6.333333</td>\n",
       "    </tr>\n",
       "    <tr>\n",
       "      <th>1</th>\n",
       "      <td>1</td>\n",
       "      <td>6.200000</td>\n",
       "    </tr>\n",
       "    <tr>\n",
       "      <th>2</th>\n",
       "      <td>2</td>\n",
       "      <td>6.400000</td>\n",
       "    </tr>\n",
       "    <tr>\n",
       "      <th>3</th>\n",
       "      <td>3</td>\n",
       "      <td>6.800000</td>\n",
       "    </tr>\n",
       "    <tr>\n",
       "      <th>4</th>\n",
       "      <td>4</td>\n",
       "      <td>6.000000</td>\n",
       "    </tr>\n",
       "    <tr>\n",
       "      <th>...</th>\n",
       "      <td>...</td>\n",
       "      <td>...</td>\n",
       "    </tr>\n",
       "    <tr>\n",
       "      <th>851</th>\n",
       "      <td>1223</td>\n",
       "      <td>6.833333</td>\n",
       "    </tr>\n",
       "    <tr>\n",
       "      <th>852</th>\n",
       "      <td>1224</td>\n",
       "      <td>6.000000</td>\n",
       "    </tr>\n",
       "    <tr>\n",
       "      <th>853</th>\n",
       "      <td>1225</td>\n",
       "      <td>7.000000</td>\n",
       "    </tr>\n",
       "    <tr>\n",
       "      <th>854</th>\n",
       "      <td>1226</td>\n",
       "      <td>6.000000</td>\n",
       "    </tr>\n",
       "    <tr>\n",
       "      <th>855</th>\n",
       "      <td>1227</td>\n",
       "      <td>6.000000</td>\n",
       "    </tr>\n",
       "  </tbody>\n",
       "</table>\n",
       "<p>856 rows × 2 columns</p>\n",
       "</div>"
      ],
      "text/plain": [
       "     Unnamed: 0         0\n",
       "0             0  6.333333\n",
       "1             1  6.200000\n",
       "2             2  6.400000\n",
       "3             3  6.800000\n",
       "4             4  6.000000\n",
       "..          ...       ...\n",
       "851        1223  6.833333\n",
       "852        1224  6.000000\n",
       "853        1225  7.000000\n",
       "854        1226  6.000000\n",
       "855        1227  6.000000\n",
       "\n",
       "[856 rows x 2 columns]"
      ]
     },
     "execution_count": 46,
     "metadata": {},
     "output_type": "execute_result"
    }
   ],
   "source": [
    "y_train"
   ]
  },
  {
   "cell_type": "code",
   "execution_count": null,
   "id": "e3580c55",
   "metadata": {},
   "outputs": [],
   "source": []
  },
  {
   "cell_type": "code",
   "execution_count": null,
   "id": "e3997d21",
   "metadata": {},
   "outputs": [],
   "source": []
  }
 ],
 "metadata": {
  "kernelspec": {
   "display_name": "DataMining",
   "language": "python",
   "name": "datamining"
  },
  "language_info": {
   "codemirror_mode": {
    "name": "ipython",
    "version": 3
   },
   "file_extension": ".py",
   "mimetype": "text/x-python",
   "name": "python",
   "nbconvert_exporter": "python",
   "pygments_lexer": "ipython3",
   "version": "3.8.10"
  },
  "latex_envs": {
   "LaTeX_envs_menu_present": true,
   "autoclose": false,
   "autocomplete": true,
   "bibliofile": "biblio.bib",
   "cite_by": "apalike",
   "current_citInitial": 1,
   "eqLabelWithNumbers": true,
   "eqNumInitial": 1,
   "hotkeys": {
    "equation": "Ctrl-E",
    "itemize": "Ctrl-I"
   },
   "labels_anchors": false,
   "latex_user_defs": false,
   "report_style_numbering": false,
   "user_envs_cfg": false
  },
  "toc": {
   "base_numbering": 1,
   "nav_menu": {},
   "number_sections": true,
   "sideBar": true,
   "skip_h1_title": false,
   "title_cell": "Table of Contents",
   "title_sidebar": "Contents",
   "toc_cell": false,
   "toc_position": {},
   "toc_section_display": true,
   "toc_window_display": false
  }
 },
 "nbformat": 4,
 "nbformat_minor": 5
}
